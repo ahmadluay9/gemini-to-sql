{
  "cells": [
    {
      "cell_type": "markdown",
      "metadata": {
        "id": "4NgLs30KNDQC"
      },
      "source": [
        "# 1. Set Up Your Environment"
      ]
    },
    {
      "cell_type": "code",
      "execution_count": 1,
      "metadata": {
        "colab": {
          "base_uri": "https://localhost:8080/"
        },
        "id": "V_qRI-V9Ngrb",
        "outputId": "b2a544e3-d86a-4bc7-f83e-91cac7ff1262"
      },
      "outputs": [
        {
          "name": "stderr",
          "output_type": "stream",
          "text": [
            "Updated property [core/project].\n"
          ]
        }
      ],
      "source": [
        "# Authenticate with GCP\n",
        "# !gcloud auth application-default login\n",
        "!gcloud config set project eikon-dev-ai-team"
      ]
    },
    {
      "cell_type": "code",
      "execution_count": 2,
      "metadata": {
        "colab": {
          "base_uri": "https://localhost:8080/"
        },
        "id": "x2w_PCzcN--F",
        "outputId": "77c8c603-c0bb-4e8d-d228-01652faf7ac8"
      },
      "outputs": [
        {
          "name": "stdout",
          "output_type": "stream",
          "text": [
            "eikon-dev-ai-team\n"
          ]
        }
      ],
      "source": [
        "!gcloud config get-value project"
      ]
    },
    {
      "cell_type": "code",
      "execution_count": 3,
      "metadata": {
        "id": "y19fINSaQGbs"
      },
      "outputs": [],
      "source": [
        "# Setup GCP project and location\n",
        "\n",
        "PROJECT_ID = \"eikon-dev-ai-team\"  \n",
        "LOCATION = \"us-central1\"  \n",
        "DATASET_ID = 'test1' "
      ]
    },
    {
      "cell_type": "code",
      "execution_count": 4,
      "metadata": {
        "id": "a-tuvlqOT0-z"
      },
      "outputs": [],
      "source": [
        "# Import vertexai Library\n",
        "import base64\n",
        "import vertexai\n",
        "from vertexai.generative_models import GenerativeModel, SafetySetting, Part\n",
        "\n",
        "vertexai.init(project=PROJECT_ID, location=LOCATION)"
      ]
    },
    {
      "cell_type": "code",
      "execution_count": 5,
      "metadata": {
        "id": "MW3vibJjNb_f"
      },
      "outputs": [],
      "source": [
        "# Import bigquery library\n",
        "from google.cloud import bigquery\n",
        "import pandas as pd\n",
        "\n",
        "bq_client = bigquery.Client(project=PROJECT_ID)\n",
        "client = bq_client"
      ]
    },
    {
      "cell_type": "markdown",
      "metadata": {
        "id": "v3lzJ5uO_LNf"
      },
      "source": [
        "# Testing the API"
      ]
    },
    {
      "cell_type": "code",
      "execution_count": 6,
      "metadata": {},
      "outputs": [],
      "source": [
        "from setup import multiturn_generate_content, get_available_dataset, get_columns_from_datasets, generate_sql_query, clean_generated_query, execute_generated_query"
      ]
    },
    {
      "cell_type": "code",
      "execution_count": 7,
      "metadata": {},
      "outputs": [
        {
          "name": "stderr",
          "output_type": "stream",
          "text": [
            "h:\\My Drive\\gemini-to-sql\\.venv\\lib\\site-packages\\google\\cloud\\bigquery\\table.py:1727: UserWarning: BigQuery Storage module not found, fetch data with the REST endpoint instead.\n",
            "  warnings.warn(\n"
          ]
        },
        {
          "name": "stdout",
          "output_type": "stream",
          "text": [
            "Available dataset saved to json-files\\dataset.json\n"
          ]
        },
        {
          "data": {
            "text/html": [
              "<div>\n",
              "<style scoped>\n",
              "    .dataframe tbody tr th:only-of-type {\n",
              "        vertical-align: middle;\n",
              "    }\n",
              "\n",
              "    .dataframe tbody tr th {\n",
              "        vertical-align: top;\n",
              "    }\n",
              "\n",
              "    .dataframe thead th {\n",
              "        text-align: right;\n",
              "    }\n",
              "</style>\n",
              "<table border=\"1\" class=\"dataframe\">\n",
              "  <thead>\n",
              "    <tr style=\"text-align: right;\">\n",
              "      <th></th>\n",
              "      <th>schema_name</th>\n",
              "    </tr>\n",
              "  </thead>\n",
              "  <tbody>\n",
              "    <tr>\n",
              "      <th>0</th>\n",
              "      <td>medicare_test</td>\n",
              "    </tr>\n",
              "    <tr>\n",
              "      <th>1</th>\n",
              "      <td>test1</td>\n",
              "    </tr>\n",
              "    <tr>\n",
              "      <th>2</th>\n",
              "      <td>country_hits10</td>\n",
              "    </tr>\n",
              "    <tr>\n",
              "      <th>3</th>\n",
              "      <td>logistic_company</td>\n",
              "    </tr>\n",
              "  </tbody>\n",
              "</table>\n",
              "</div>"
            ],
            "text/plain": [
              "        schema_name\n",
              "0     medicare_test\n",
              "1             test1\n",
              "2    country_hits10\n",
              "3  logistic_company"
            ]
          },
          "execution_count": 7,
          "metadata": {},
          "output_type": "execute_result"
        }
      ],
      "source": [
        "# Get available dataset\n",
        "get_available_dataset(PROJECT_ID)"
      ]
    },
    {
      "cell_type": "code",
      "execution_count": 8,
      "metadata": {},
      "outputs": [
        {
          "name": "stdout",
          "output_type": "stream",
          "text": [
            "Columns saved to json-files\\columns.json\n"
          ]
        },
        {
          "data": {
            "text/plain": [
              "{'medicare_test': {'inpatient_charges_2013': {'drg_definition': 'STRING',\n",
              "   'provider_id': 'INT64',\n",
              "   'provider_name': 'STRING',\n",
              "   'provider_street_address': 'STRING',\n",
              "   'provider_city': 'STRING',\n",
              "   'provider_state': 'STRING',\n",
              "   'provider_zipcode': 'INT64',\n",
              "   'hospital_referral_region_description': 'STRING',\n",
              "   'total_discharges': 'INT64',\n",
              "   'average_covered_charges': 'FLOAT64',\n",
              "   'average_total_payments': 'FLOAT64',\n",
              "   'average_medicare_payments': 'FLOAT64',\n",
              "   'year': 'INT64'},\n",
              "  'inpatient_charges_2014': {'drg_definition': 'STRING',\n",
              "   'provider_id': 'INT64',\n",
              "   'provider_name': 'STRING',\n",
              "   'provider_street_address': 'STRING',\n",
              "   'provider_city': 'STRING',\n",
              "   'provider_state': 'STRING',\n",
              "   'provider_zipcode': 'INT64',\n",
              "   'hospital_referral_region_description': 'STRING',\n",
              "   'total_discharges': 'INT64',\n",
              "   'average_covered_charges': 'FLOAT64',\n",
              "   'average_total_payments': 'FLOAT64',\n",
              "   'average_medicare_payments': 'FLOAT64',\n",
              "   'year': 'INT64'},\n",
              "  'outpatient_charges_2012': {'apc': 'STRING',\n",
              "   'provider_id': 'INT64',\n",
              "   'provider_name': 'STRING',\n",
              "   'provider_street_address': 'STRING',\n",
              "   'provider_city': 'STRING',\n",
              "   'provider_state': 'STRING',\n",
              "   'provider_zipcode': 'INT64',\n",
              "   'hospital_referral_region': 'STRING',\n",
              "   'outpatient_services': 'INT64',\n",
              "   'average_estimated_submitted_charges': 'FLOAT64',\n",
              "   'average_total_payments': 'FLOAT64',\n",
              "   'year': 'INT64'},\n",
              "  'inpatient_charges_2011': {'drg_definition': 'STRING',\n",
              "   'provider_id': 'INT64',\n",
              "   'provider_name': 'STRING',\n",
              "   'provider_street_address': 'STRING',\n",
              "   'provider_city': 'STRING',\n",
              "   'provider_state': 'STRING',\n",
              "   'provider_zipcode': 'INT64',\n",
              "   'hospital_referral_region_description': 'STRING',\n",
              "   'total_discharges': 'INT64',\n",
              "   'average_covered_charges': 'FLOAT64',\n",
              "   'average_total_payments': 'FLOAT64',\n",
              "   'average_medicare_payments': 'FLOAT64',\n",
              "   'year': 'INT64'},\n",
              "  'outpatient_charges_2011': {'apc': 'STRING',\n",
              "   'provider_id': 'INT64',\n",
              "   'provider_name': 'STRING',\n",
              "   'provider_street_address': 'STRING',\n",
              "   'provider_city': 'STRING',\n",
              "   'provider_state': 'STRING',\n",
              "   'provider_zipcode': 'INT64',\n",
              "   'hospital_referral_region': 'STRING',\n",
              "   'outpatient_services': 'INT64',\n",
              "   'average_estimated_submitted_charges': 'FLOAT64',\n",
              "   'average_total_payments': 'FLOAT64',\n",
              "   'year': 'INT64'},\n",
              "  'inpatient_charges_2012': {'drg_definition': 'STRING',\n",
              "   'provider_id': 'INT64',\n",
              "   'provider_name': 'STRING',\n",
              "   'provider_street_address': 'STRING',\n",
              "   'provider_city': 'STRING',\n",
              "   'provider_state': 'STRING',\n",
              "   'provider_zipcode': 'INT64',\n",
              "   'hospital_referral_region_description': 'STRING',\n",
              "   'total_discharges': 'INT64',\n",
              "   'average_covered_charges': 'FLOAT64',\n",
              "   'average_total_payments': 'FLOAT64',\n",
              "   'average_medicare_payments': 'FLOAT64',\n",
              "   'year': 'INT64'},\n",
              "  'outpatient_charges_2014': {'apc': 'STRING',\n",
              "   'provider_id': 'INT64',\n",
              "   'provider_name': 'STRING',\n",
              "   'provider_street_address': 'STRING',\n",
              "   'provider_city': 'STRING',\n",
              "   'provider_state': 'STRING',\n",
              "   'provider_zipcode': 'INT64',\n",
              "   'hospital_referral_region': 'STRING',\n",
              "   'outpatient_services': 'INT64',\n",
              "   'average_estimated_submitted_charges': 'FLOAT64',\n",
              "   'average_total_payments': 'FLOAT64',\n",
              "   'year': 'INT64'},\n",
              "  'outpatient_charges_2013': {'apc': 'STRING',\n",
              "   'provider_id': 'INT64',\n",
              "   'provider_name': 'STRING',\n",
              "   'provider_street_address': 'STRING',\n",
              "   'provider_city': 'STRING',\n",
              "   'provider_state': 'STRING',\n",
              "   'provider_zipcode': 'INT64',\n",
              "   'hospital_referral_region': 'STRING',\n",
              "   'outpatient_services': 'INT64',\n",
              "   'average_estimated_submitted_charges': 'FLOAT64',\n",
              "   'average_total_payments': 'FLOAT64',\n",
              "   'year': 'INT64'}},\n",
              " 'test1': {'customerdata': {'custid': 'INT64',\n",
              "   'custname': 'STRING',\n",
              "   'dateofbirth': 'STRING',\n",
              "   'city_address': 'STRING',\n",
              "   'nationality': 'STRING',\n",
              "   'memberstatus': 'STRING',\n",
              "   'education': 'STRING'},\n",
              "  'satisfactionsurvey': {'transactionid': 'STRING', 'surveyscore': 'INT64'},\n",
              "  'ordertransaction': {'transactionid': 'STRING',\n",
              "   'custid': 'INT64',\n",
              "   'transactsitelocation': 'STRING',\n",
              "   'transactiondate': 'STRING',\n",
              "   'servicecategory': 'STRING',\n",
              "   'transactionamount': 'INT64',\n",
              "   'servingconsultant': 'STRING'}},\n",
              " 'country_hits10': {'info': {'Rank': 'INT64',\n",
              "   'Track': 'STRING',\n",
              "   'Artist1': 'STRING',\n",
              "   'Artist2': 'STRING',\n",
              "   'Album': 'STRING',\n",
              "   'Release': 'DATE',\n",
              "   'Popularity': 'INT64',\n",
              "   'Duration': 'INT64',\n",
              "   'Danceability': 'FLOAT64',\n",
              "   'Energy': 'FLOAT64',\n",
              "   'Key': 'INT64',\n",
              "   'Loudness': 'FLOAT64',\n",
              "   'Mode': 'INT64',\n",
              "   'Speechiness': 'FLOAT64',\n",
              "   'Acousticness': 'FLOAT64',\n",
              "   'Instrumentalness': 'FLOAT64',\n",
              "   'Liveness': 'FLOAT64',\n",
              "   'Valence': 'FLOAT64',\n",
              "   'Tempo': 'FLOAT64'}},\n",
              " 'logistic_company': {'shipment': {'Payment_ID': 'STRING',\n",
              "   'SH_ID': 'INT64',\n",
              "   'C_ID': 'INT64',\n",
              "   'AMOUNT': 'INT64',\n",
              "   'Payment_Status': 'STRING',\n",
              "   'Payment_Mode': 'STRING',\n",
              "   'Payment_Date': 'DATE',\n",
              "   'SH_CONTENT': 'STRING',\n",
              "   'SH_DOMAIN': 'STRING',\n",
              "   'SER_TYPE': 'STRING',\n",
              "   'SH_WEIGHT': 'INT64',\n",
              "   'SH_CHARGES': 'INT64',\n",
              "   'SR_ADDR': 'STRING',\n",
              "   'DS_ADDR': 'STRING',\n",
              "   'Current_Status': 'STRING',\n",
              "   'Sent_date': 'DATE',\n",
              "   'Delivery_date': 'DATE'},\n",
              "  'data': {'video_id': 'STRING',\n",
              "   'title': 'STRING',\n",
              "   'description': 'STRING',\n",
              "   'category': 'STRING',\n",
              "   'tags': 'STRING',\n",
              "   'duration': 'INT64',\n",
              "   'upload_date': 'DATE',\n",
              "   'thumbnail_url': 'STRING',\n",
              "   'view_count': 'INT64',\n",
              "   'rating': 'FLOAT64'}}}"
            ]
          },
          "execution_count": 8,
          "metadata": {},
          "output_type": "execute_result"
        }
      ],
      "source": [
        "json_file = \"json-files/dataset.json\"\n",
        "get_columns_from_datasets(json_file, PROJECT_ID, output_folder=\"json-files\", output_file=\"columns.json\")"
      ]
    },
    {
      "cell_type": "code",
      "execution_count": 10,
      "metadata": {},
      "outputs": [],
      "source": [
        "folder_path = \"json-files\"\n",
        "user_request = \"Create a query focuses on selecting specific information (columns) about medical providers in Alaska (AK) and ranks them based on the highest average total payments for inpatient services. Displays only the top 10 providers by this ranking. Only for year 2012\"\n",
        "\n",
        "generated_query = generate_sql_query(folder_path, user_request)\n",
        "cleaned_query = clean_generated_query(generated_query)"
      ]
    },
    {
      "cell_type": "code",
      "execution_count": 12,
      "metadata": {},
      "outputs": [
        {
          "name": "stdout",
          "output_type": "stream",
          "text": [
            "[\"```sql\\nSELECT\\n    provider_id,\\n    provider_name,\\n    provider_state,\\n    average_total_payments\\n  FROM\\n    `medicare_test.inpatient_charges_2012`\\n  WHERE provider_state = 'AK'\\nORDER BY\\n  average_total_payments DESC\\nLIMIT 10\\n```\\n\"]\n"
          ]
        }
      ],
      "source": [
        "print(generated_query)"
      ]
    },
    {
      "cell_type": "code",
      "execution_count": 11,
      "metadata": {},
      "outputs": [
        {
          "name": "stderr",
          "output_type": "stream",
          "text": [
            "h:\\My Drive\\gemini-to-sql\\.venv\\lib\\site-packages\\google\\cloud\\bigquery\\table.py:1727: UserWarning: BigQuery Storage module not found, fetch data with the REST endpoint instead.\n",
            "  warnings.warn(\n"
          ]
        },
        {
          "name": "stdout",
          "output_type": "stream",
          "text": [
            "Query executed successfully. 10 rows retrieved.\n"
          ]
        },
        {
          "data": {
            "text/html": [
              "<div>\n",
              "<style scoped>\n",
              "    .dataframe tbody tr th:only-of-type {\n",
              "        vertical-align: middle;\n",
              "    }\n",
              "\n",
              "    .dataframe tbody tr th {\n",
              "        vertical-align: top;\n",
              "    }\n",
              "\n",
              "    .dataframe thead th {\n",
              "        text-align: right;\n",
              "    }\n",
              "</style>\n",
              "<table border=\"1\" class=\"dataframe\">\n",
              "  <thead>\n",
              "    <tr style=\"text-align: right;\">\n",
              "      <th></th>\n",
              "      <th>provider_id</th>\n",
              "      <th>provider_name</th>\n",
              "      <th>provider_state</th>\n",
              "      <th>average_total_payments</th>\n",
              "    </tr>\n",
              "  </thead>\n",
              "  <tbody>\n",
              "    <tr>\n",
              "      <th>0</th>\n",
              "      <td>20001</td>\n",
              "      <td>PROVIDENCE ALASKA MEDICAL CENTER</td>\n",
              "      <td>AK</td>\n",
              "      <td>60365.21429</td>\n",
              "    </tr>\n",
              "    <tr>\n",
              "      <th>1</th>\n",
              "      <td>20001</td>\n",
              "      <td>PROVIDENCE ALASKA MEDICAL CENTER</td>\n",
              "      <td>AK</td>\n",
              "      <td>58481.12500</td>\n",
              "    </tr>\n",
              "    <tr>\n",
              "      <th>2</th>\n",
              "      <td>20001</td>\n",
              "      <td>PROVIDENCE ALASKA MEDICAL CENTER</td>\n",
              "      <td>AK</td>\n",
              "      <td>34464.07143</td>\n",
              "    </tr>\n",
              "    <tr>\n",
              "      <th>3</th>\n",
              "      <td>20001</td>\n",
              "      <td>PROVIDENCE ALASKA MEDICAL CENTER</td>\n",
              "      <td>AK</td>\n",
              "      <td>29538.57143</td>\n",
              "    </tr>\n",
              "    <tr>\n",
              "      <th>4</th>\n",
              "      <td>20001</td>\n",
              "      <td>PROVIDENCE ALASKA MEDICAL CENTER</td>\n",
              "      <td>AK</td>\n",
              "      <td>26220.79310</td>\n",
              "    </tr>\n",
              "    <tr>\n",
              "      <th>5</th>\n",
              "      <td>20001</td>\n",
              "      <td>PROVIDENCE ALASKA MEDICAL CENTER</td>\n",
              "      <td>AK</td>\n",
              "      <td>23851.07895</td>\n",
              "    </tr>\n",
              "    <tr>\n",
              "      <th>6</th>\n",
              "      <td>20001</td>\n",
              "      <td>PROVIDENCE ALASKA MEDICAL CENTER</td>\n",
              "      <td>AK</td>\n",
              "      <td>22579.83333</td>\n",
              "    </tr>\n",
              "    <tr>\n",
              "      <th>7</th>\n",
              "      <td>20001</td>\n",
              "      <td>PROVIDENCE ALASKA MEDICAL CENTER</td>\n",
              "      <td>AK</td>\n",
              "      <td>18929.75743</td>\n",
              "    </tr>\n",
              "    <tr>\n",
              "      <th>8</th>\n",
              "      <td>20001</td>\n",
              "      <td>PROVIDENCE ALASKA MEDICAL CENTER</td>\n",
              "      <td>AK</td>\n",
              "      <td>18846.62500</td>\n",
              "    </tr>\n",
              "    <tr>\n",
              "      <th>9</th>\n",
              "      <td>20001</td>\n",
              "      <td>PROVIDENCE ALASKA MEDICAL CENTER</td>\n",
              "      <td>AK</td>\n",
              "      <td>18506.53571</td>\n",
              "    </tr>\n",
              "  </tbody>\n",
              "</table>\n",
              "</div>"
            ],
            "text/plain": [
              "   provider_id                     provider_name provider_state  \\\n",
              "0        20001  PROVIDENCE ALASKA MEDICAL CENTER             AK   \n",
              "1        20001  PROVIDENCE ALASKA MEDICAL CENTER             AK   \n",
              "2        20001  PROVIDENCE ALASKA MEDICAL CENTER             AK   \n",
              "3        20001  PROVIDENCE ALASKA MEDICAL CENTER             AK   \n",
              "4        20001  PROVIDENCE ALASKA MEDICAL CENTER             AK   \n",
              "5        20001  PROVIDENCE ALASKA MEDICAL CENTER             AK   \n",
              "6        20001  PROVIDENCE ALASKA MEDICAL CENTER             AK   \n",
              "7        20001  PROVIDENCE ALASKA MEDICAL CENTER             AK   \n",
              "8        20001  PROVIDENCE ALASKA MEDICAL CENTER             AK   \n",
              "9        20001  PROVIDENCE ALASKA MEDICAL CENTER             AK   \n",
              "\n",
              "   average_total_payments  \n",
              "0             60365.21429  \n",
              "1             58481.12500  \n",
              "2             34464.07143  \n",
              "3             29538.57143  \n",
              "4             26220.79310  \n",
              "5             23851.07895  \n",
              "6             22579.83333  \n",
              "7             18929.75743  \n",
              "8             18846.62500  \n",
              "9             18506.53571  "
            ]
          },
          "execution_count": 11,
          "metadata": {},
          "output_type": "execute_result"
        }
      ],
      "source": [
        "execute_generated_query(PROJECT_ID,cleaned_query)"
      ]
    }
  ],
  "metadata": {
    "colab": {
      "provenance": []
    },
    "kernelspec": {
      "display_name": ".venv",
      "language": "python",
      "name": "python3"
    },
    "language_info": {
      "codemirror_mode": {
        "name": "ipython",
        "version": 3
      },
      "file_extension": ".py",
      "mimetype": "text/x-python",
      "name": "python",
      "nbconvert_exporter": "python",
      "pygments_lexer": "ipython3",
      "version": "3.9.13"
    }
  },
  "nbformat": 4,
  "nbformat_minor": 0
}
